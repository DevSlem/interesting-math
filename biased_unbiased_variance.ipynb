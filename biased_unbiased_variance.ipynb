{
 "cells": [
  {
   "attachments": {},
   "cell_type": "markdown",
   "metadata": {},
   "source": [
    "# Biased vs Unbiased Variance\n",
    "\n",
    "You might wonder why sample variance $s^2$ is calculated by dividing $n-1$ instead of $n$ and why we call it *unbiased variance*.\n",
    "\n",
    "First of all, we need to define mean $\\mu$ (especially when $\\mu$ is the average value) of random variable $X$:\n",
    "\n",
    "$$\n",
    "\\mu = \\mathbb{E}[X] = \\frac{1}{n}\\sum_{i=1}^n x_i\n",
    "$$\n",
    "\n",
    "and variance $\\sigma^2$:\n",
    "\n",
    "$$\n",
    "\\sigma^2 = \\mathbb{E}\\big[(X - \\mu)^2 \\big] = \\frac{1}{n}\\sum_{i=1}^n (x_i - \\mu)^2\n",
    "$$\n",
    "\n",
    "Let's say there is one population. We want to calculate absolute population mean $\\mu$ and variance $\\sigma^2$, but it's impossible. Since we can't consider all instances in the population, we need to sample some instances from it!\n",
    "\n",
    "Ok, let's see one example. There are $1, 2, 3$ in the population. We can sample like below things:\n",
    "\n",
    "* $1, 2$\n",
    "* $1, 3$\n",
    "* $2, 3$\n",
    "\n",
    "Now, we can calculate sample mean $\\bar{X}$:"
   ]
  },
  {
   "cell_type": "code",
   "execution_count": 11,
   "metadata": {},
   "outputs": [
    {
     "name": "stdout",
     "output_type": "stream",
     "text": [
      "sample mean: 1.5\n",
      "sample mean: 2.0\n",
      "sample mean: 2.5\n"
     ]
    }
   ],
   "source": [
    "import numpy as np\n",
    "\n",
    "samples = [\n",
    "    np.array([1, 2]),\n",
    "    np.array([1, 3]),\n",
    "    np.array([2, 3])\n",
    "]\n",
    "\n",
    "sample_means = []\n",
    "\n",
    "for sample in samples:\n",
    "    # we will see later what is ddof, but in short it's sample or unbiased variance when ddof = 1\n",
    "    sample_mean = sample.mean()\n",
    "    sample_means.append(sample_mean)\n",
    "    print(f\"sample mean: {sample_mean}\")"
   ]
  },
  {
   "attachments": {},
   "cell_type": "markdown",
   "metadata": {},
   "source": [
    "Let's compare sample means $\\bar{X}$ with population mean $\\mu$:"
   ]
  },
  {
   "cell_type": "code",
   "execution_count": 16,
   "metadata": {},
   "outputs": [
    {
     "data": {
      "image/png": "[encoded data removed]",
      "text/plain": [
       "<Figure size 640x480 with 1 Axes>"
      ]
     },
     "metadata": {},
     "output_type": "display_data"
    }
   ],
   "source": [
    "import matplotlib.pyplot as plt\n",
    "\n",
    "population = np.array([1, 2, 3])\n",
    "\n",
    "plt.scatter(population.mean(), 0, s=200)\n",
    "plt.scatter(sample_means, np.zeros_like(sample_means))\n",
    "plt.show()"
   ]
  },
  {
   "attachments": {},
   "cell_type": "markdown",
   "metadata": {},
   "source": [
    "You can see the sample means $\\bar{X}$ are evenly distributed from the population mean $\\mu$."
   ]
  },
  {
   "cell_type": "markdown",
   "metadata": {},
   "source": []
  }
 ],
 "metadata": {
  "kernelspec": {
   "display_name": "base",
   "language": "python",
   "name": "python3"
  },
  "language_info": {
   "codemirror_mode": {
    "name": "ipython",
    "version": 3
   },
   "file_extension": ".py",
   "mimetype": "text/x-python",
   "name": "python",
   "nbconvert_exporter": "python",
   "pygments_lexer": "ipython3",
   "version": "3.10.9"
  },
  "orig_nbformat": 4,
  "vscode": {
   "interpreter": {
    "hash": "d44c216fd9cefd2977681119ded9b128a6811159c6452dfab9954bb02f395537"
   }
  }
 },
 "nbformat": 4,
 "nbformat_minor": 2
}
